{
 "cells": [
  {
   "cell_type": "code",
   "execution_count": 4,
   "id": "2d5836ee",
   "metadata": {},
   "outputs": [
    {
     "name": "stdout",
     "output_type": "stream",
     "text": [
      "Requirement already satisfied: nltk in c:\\users\\pandu\\anaconda3\\lib\\site-packages (3.6.1)\n",
      "Requirement already satisfied: regex in c:\\users\\pandu\\anaconda3\\lib\\site-packages (from nltk) (2021.4.4)\n",
      "Requirement already satisfied: click in c:\\users\\pandu\\anaconda3\\lib\\site-packages (from nltk) (7.1.2)\n",
      "Requirement already satisfied: tqdm in c:\\users\\pandu\\anaconda3\\lib\\site-packages (from nltk) (4.59.0)\n",
      "Requirement already satisfied: joblib in c:\\users\\pandu\\anaconda3\\lib\\site-packages (from nltk) (1.0.1)\n",
      "Note: you may need to restart the kernel to use updated packages.\n"
     ]
    }
   ],
   "source": [
    "pip install nltk"
   ]
  },
  {
   "cell_type": "code",
   "execution_count": 5,
   "id": "d05633de",
   "metadata": {},
   "outputs": [
    {
     "data": {
      "text/plain": [
       "'play'"
      ]
     },
     "execution_count": 5,
     "metadata": {},
     "output_type": "execute_result"
    }
   ],
   "source": [
    "import nltk\n",
    "from nltk.stem import PorterStemmer\n",
    "word_stemmer = PorterStemmer ()\n",
    "word_stemmer.stem('playing')"
   ]
  },
  {
   "cell_type": "code",
   "execution_count": 6,
   "id": "08c6bacd",
   "metadata": {},
   "outputs": [
    {
     "data": {
      "text/plain": [
       "'play'"
      ]
     },
     "execution_count": 6,
     "metadata": {},
     "output_type": "execute_result"
    }
   ],
   "source": [
    "import nltk\n",
    "from nltk.stem import LancasterStemmer\n",
    "Lanc_stemmer = LancasterStemmer ()\n",
    "Lanc_stemmer.stem('plays')"
   ]
  },
  {
   "cell_type": "code",
   "execution_count": 7,
   "id": "0125f0e8",
   "metadata": {},
   "outputs": [],
   "source": [
    "import nltk"
   ]
  },
  {
   "cell_type": "code",
   "execution_count": 8,
   "id": "071fdc12",
   "metadata": {},
   "outputs": [],
   "source": [
    "from nltk.stem import PorterStemmer\n",
    "from nltk.stem import LancasterStemmer"
   ]
  },
  {
   "cell_type": "code",
   "execution_count": 9,
   "id": "b134a23f",
   "metadata": {},
   "outputs": [],
   "source": [
    "porter = PorterStemmer()\n",
    "lancaster = LancasterStemmer()"
   ]
  },
  {
   "cell_type": "code",
   "execution_count": 10,
   "id": "db354eb8",
   "metadata": {},
   "outputs": [
    {
     "name": "stdout",
     "output_type": "stream",
     "text": [
      "Porter Stemmer\n",
      "read\n",
      "play\n",
      "play\n",
      "play\n",
      "Lancaster Stemmer\n",
      "read\n",
      "play\n",
      "play\n",
      "play\n"
     ]
    }
   ],
   "source": [
    "from nltk.stem import PorterStemmer\n",
    "porter = PorterStemmer()\n",
    "print(\"Porter Stemmer\")\n",
    "print(porter.stem(\"reads\"))\n",
    "print(porter.stem(\"play\"))\n",
    "print(porter.stem(\"playing\"))\n",
    "print(porter.stem(\"played\"))\n",
    "print(\"Lancaster Stemmer\")\n",
    "print(porter.stem(\"reads\"))\n",
    "print(porter.stem(\"play\"))\n",
    "print(porter.stem(\"playing\"))\n",
    "print(porter.stem(\"played\"))"
   ]
  },
  {
   "cell_type": "code",
   "execution_count": 14,
   "id": "e33e0f23",
   "metadata": {},
   "outputs": [
    {
     "name": "stdout",
     "output_type": "stream",
     "text": [
      "Word                Porter Stemmer      Lancester Stemmer   \n",
      "famous              famou               fam                 \n",
      "girlfriend          girlfriend          girlfriend          \n",
      "friends             friend              friend              \n",
      "friendship          friendship          friend              \n",
      "unbelievable        unbeliev            unbeliev            \n",
      "disable             disabl              dis                 \n",
      "swimming            swim                swim                \n",
      "cooking             cook                cook                \n",
      "watching            watch               watch               \n",
      "accepted            accept              acceiv              \n",
      "confirmed           confirm             confirm             \n"
     ]
    }
   ],
   "source": [
    "word_list = [\"famous\",\"girlfriend\",\"friends\",\"friendship\",\"unbelievable\",\"disable\",\"swimming\",\"cooking\",\"watching\",\"accepted\",\"confirmed\"]\n",
    "print(\"{0:20}{1:20}{2:20}\".format(\"Word\",\"Porter Stemmer\",\"Lancester Stemmer\"))\n",
    "for word in word_list:\n",
    "    print(\"{0:20}{1:20}{2:20}\".format(word,porter.stem(word),lancaster.stem(word)))"
   ]
  },
  {
   "cell_type": "code",
   "execution_count": 15,
   "id": "5b4655f7",
   "metadata": {},
   "outputs": [
    {
     "data": {
      "text/plain": [
       "'jakarta is the capital city of indonesia and one of the most densely populated cities in the world.'"
      ]
     },
     "execution_count": 15,
     "metadata": {},
     "output_type": "execute_result"
    }
   ],
   "source": [
    "sentence=\"Jakarta is the capital city of Indonesia and one of the most densely populated cities in the world.\"\n",
    "porter.stem(sentence)"
   ]
  },
  {
   "cell_type": "code",
   "execution_count": 16,
   "id": "5ccf30a6",
   "metadata": {},
   "outputs": [
    {
     "name": "stdout",
     "output_type": "stream",
     "text": [
      "jakarta is the capit citi of indonesia and one of the most dens popul citi in the world . \n"
     ]
    }
   ],
   "source": [
    "from nltk.tokenize import sent_tokenize, word_tokenize\n",
    "def stemSentence(sentence):\n",
    "    token_words=word_tokenize(sentence)\n",
    "    token_words\n",
    "    stem_sentence=[]\n",
    "    for word in token_words:\n",
    "        stem_sentence.append(porter.stem(word))\n",
    "        stem_sentence.append(\" \")\n",
    "    return \"\".join(stem_sentence)\n",
    "\n",
    "x=stemSentence(sentence)\n",
    "print(x)"
   ]
  },
  {
   "cell_type": "code",
   "execution_count": 17,
   "id": "e6d8e3a2",
   "metadata": {},
   "outputs": [
    {
     "data": {
      "text/plain": [
       "'Jakarta started its history as a port city called \"Sunda Kelapa\" during the Hindu kingdom of Pajajaran. In 1552 the Portuguese arrived in Sunda Kelapa on the messenger of the Governor of Malacca and were the first western nations to come to Sunda Kelapa. With the aim of asking for permission to build a fort near the mouth of the Ciliwung River. After successfully entering into an agreement with the rulers of Sunda Kelapa, the Portuguese returned to Malacca.\\n\\nIn 1527 the Portuguese returned to Sunda Kelapa but without knowing it had fallen into the hands of FATAHILLAH and the Portuguese tried to reclaim Sunda Kelapa. So there was a battle between the Portuguese and Fatahillah around the bay of Jakarta. For this meeting Fatahillah won and changed the name Sunda Kelapa to Jayakarta.\\n\\nCornelis De Houtman dating (1596) and founded the VOC (1619). The name Jayakarta was changed to Batavia under the leadership of the Dutch Â± 350 years of rule in Indonesia.\\n\\nThe Dutch surrendered to Japan (1942), then Batavia was renamed Jakarta'"
      ]
     },
     "execution_count": 17,
     "metadata": {},
     "output_type": "execute_result"
    }
   ],
   "source": [
    "file=open(\"DeepLearning.txt\")\n",
    "file.read()"
   ]
  },
  {
   "cell_type": "code",
   "execution_count": 18,
   "id": "4a4a7d4c",
   "metadata": {},
   "outputs": [
    {
     "data": {
      "text/plain": [
       "['Jakarta started its history as a port city called \"Sunda Kelapa\" during the Hindu kingdom of Pajajaran. In 1552 the Portuguese arrived in Sunda Kelapa on the messenger of the Governor of Malacca and were the first western nations to come to Sunda Kelapa. With the aim of asking for permission to build a fort near the mouth of the Ciliwung River. After successfully entering into an agreement with the rulers of Sunda Kelapa, the Portuguese returned to Malacca.\\n',\n",
       " '\\n',\n",
       " 'In 1527 the Portuguese returned to Sunda Kelapa but without knowing it had fallen into the hands of FATAHILLAH and the Portuguese tried to reclaim Sunda Kelapa. So there was a battle between the Portuguese and Fatahillah around the bay of Jakarta. For this meeting Fatahillah won and changed the name Sunda Kelapa to Jayakarta.\\n',\n",
       " '\\n',\n",
       " 'Cornelis De Houtman dating (1596) and founded the VOC (1619). The name Jayakarta was changed to Batavia under the leadership of the Dutch Â± 350 years of rule in Indonesia.\\n',\n",
       " '\\n',\n",
       " 'The Dutch surrendered to Japan (1942), then Batavia was renamed Jakarta']"
      ]
     },
     "execution_count": 18,
     "metadata": {},
     "output_type": "execute_result"
    }
   ],
   "source": [
    "file=open(\"DeepLearning.txt\")\n",
    "my_lines_list=file.readlines()\n",
    "my_lines_list"
   ]
  },
  {
   "cell_type": "code",
   "execution_count": 19,
   "id": "90078639",
   "metadata": {},
   "outputs": [
    {
     "name": "stdout",
     "output_type": "stream",
     "text": [
      "Jakarta started its history as a port city called \"Sunda Kelapa\" during the Hindu kingdom of Pajajaran. In 1552 the Portuguese arrived in Sunda Kelapa on the messenger of the Governor of Malacca and were the first western nations to come to Sunda Kelapa. With the aim of asking for permission to build a fort near the mouth of the Ciliwung River. After successfully entering into an agreement with the rulers of Sunda Kelapa, the Portuguese returned to Malacca.\n",
      "\n",
      "Stemmed sentence\n",
      "jakarta start it histori as a port citi call `` sunda kelapa '' dure the hindu kingdom of pajajaran . in 1552 the portugues arriv in sunda kelapa on the messeng of the governor of malacca and were the first western nation to come to sunda kelapa . with the aim of ask for permiss to build a fort near the mouth of the ciliwung river . after success enter into an agreement with the ruler of sunda kelapa , the portugues return to malacca . \n"
     ]
    }
   ],
   "source": [
    "def StemSentence(sentence):\n",
    "    token_words=word_tokenize(sentence)\n",
    "    token_words\n",
    "    stem_sentence=[]\n",
    "    for word in token_words:\n",
    "        stem_sentence.append(porter.stem(word))\n",
    "        stem_sentence.append(\" \")\n",
    "    return \"\".join(stem_sentence)\n",
    "    \n",
    "print(my_lines_list[0])\n",
    "print(\"Stemmed sentence\")\n",
    "x=StemSentence(my_lines_list[0])\n",
    "print(x)"
   ]
  },
  {
   "cell_type": "code",
   "execution_count": 22,
   "id": "faa2fff9",
   "metadata": {},
   "outputs": [
    {
     "name": "stdout",
     "output_type": "stream",
     "text": [
      "Word                Lemma               \n",
      "He                  He                  \n",
      "goes                go                  \n",
      "to                  to                  \n",
      "school              school              \n",
      "on                  on                  \n",
      "his                 his                 \n",
      "new                 new                 \n",
      "bicycle             bicycle             \n",
      "he                  he                  \n",
      "has                 ha                  \n",
      "always              always              \n",
      "been                been                \n",
      "an                  an                  \n",
      "obedient            obedient            \n",
      "child               child               \n",
      "to                  to                  \n",
      "his                 his                 \n",
      "parents             parent              \n"
     ]
    }
   ],
   "source": [
    "from nltk.stem import WordNetLemmatizer\n",
    "wordnet_lemmatizer = WordNetLemmatizer()\n",
    "\n",
    "sentence_1 = \"He goes to school on his new bicycle. he has always been an obedient child to his parents.\"\n",
    "punctuations=\"?:!.,;\"\n",
    "sentence_words = nltk.word_tokenize(sentence_1)\n",
    "for word in sentence_words:\n",
    "    if word in punctuations:\n",
    "        sentence_words.remove(word)\n",
    "\n",
    "sentence_words\n",
    "print(\"{0:20}{1:20}\".format(\"Word\",\"Lemma\"))\n",
    "for word in sentence_words:\n",
    "    print (\"{0:20}{1:20}\".format(word,wordnet_lemmatizer.lemmatize(word)))"
   ]
  },
  {
   "cell_type": "code",
   "execution_count": null,
   "id": "cbc676d8",
   "metadata": {},
   "outputs": [],
   "source": []
  }
 ],
 "metadata": {
  "kernelspec": {
   "display_name": "Python 3",
   "language": "python",
   "name": "python3"
  },
  "language_info": {
   "codemirror_mode": {
    "name": "ipython",
    "version": 3
   },
   "file_extension": ".py",
   "mimetype": "text/x-python",
   "name": "python",
   "nbconvert_exporter": "python",
   "pygments_lexer": "ipython3",
   "version": "3.8.8"
  }
 },
 "nbformat": 4,
 "nbformat_minor": 5
}
